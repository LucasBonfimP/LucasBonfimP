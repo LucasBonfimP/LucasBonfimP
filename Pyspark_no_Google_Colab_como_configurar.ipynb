{
  "nbformat": 4,
  "nbformat_minor": 0,
  "metadata": {
    "colab": {
      "provenance": [],
      "authorship_tag": "ABX9TyMHoHl+ZPBvXoM0b+oN84A8",
      "include_colab_link": true
    },
    "kernelspec": {
      "name": "python3",
      "display_name": "Python 3"
    },
    "language_info": {
      "name": "python"
    }
  },
  "cells": [
    {
      "cell_type": "markdown",
      "metadata": {
        "id": "view-in-github",
        "colab_type": "text"
      },
      "source": [
        "<a href=\"https://colab.research.google.com/github/LucasBonfimP/LucasBonfimP/blob/main/Pyspark_no_Google_Colab_como_configurar.ipynb\" target=\"_parent\"><img src=\"https://colab.research.google.com/assets/colab-badge.svg\" alt=\"Open In Colab\"/></a>"
      ]
    },
    {
      "cell_type": "markdown",
      "source": [
        "# Configurando PySpark no Google Colabs\n",
        "link da documentação utilizada: [spark apache](https://spark.apache.org/docs/latest/api/python/getting_started/install.html)"
      ],
      "metadata": {
        "id": "_m9m3CDUQGwm"
      }
    },
    {
      "cell_type": "markdown",
      "source": [
        "### Execute os comandos abaixo para instalar o pyspark no seu google colab"
      ],
      "metadata": {
        "id": "1wZd1CmSQPyH"
      }
    },
    {
      "cell_type": "code",
      "source": [
        "!pip install pyspark"
      ],
      "metadata": {
        "colab": {
          "base_uri": "https://localhost:8080/"
        },
        "id": "jZ736vCoMnRp",
        "outputId": "117241cb-4e70-410c-8d5c-75f29c90d6d1"
      },
      "execution_count": 38,
      "outputs": [
        {
          "output_type": "stream",
          "name": "stdout",
          "text": [
            "Requirement already satisfied: pyspark in /usr/local/lib/python3.10/dist-packages (3.5.0)\n",
            "Requirement already satisfied: py4j==0.10.9.7 in /usr/local/lib/python3.10/dist-packages (from pyspark) (0.10.9.7)\n"
          ]
        }
      ]
    },
    {
      "cell_type": "code",
      "source": [
        "!PYSPARK_HADOOP_VERSION=3 pip install pyspark -v"
      ],
      "metadata": {
        "colab": {
          "base_uri": "https://localhost:8080/"
        },
        "id": "4rmgtbWnN5L3",
        "outputId": "8a551806-bc02-4e9f-e99a-0e63dd21fe6d"
      },
      "execution_count": 39,
      "outputs": [
        {
          "output_type": "stream",
          "name": "stdout",
          "text": [
            "Using pip 23.1.2 from /usr/local/lib/python3.10/dist-packages/pip (python 3.10)\n",
            "Requirement already satisfied: pyspark in /usr/local/lib/python3.10/dist-packages (3.5.0)\n",
            "Requirement already satisfied: py4j==0.10.9.7 in /usr/local/lib/python3.10/dist-packages (from pyspark) (0.10.9.7)\n"
          ]
        }
      ]
    },
    {
      "cell_type": "markdown",
      "source": [
        "# Importando Pyspark e iniciando uma sessão spark\n",
        "\n"
      ],
      "metadata": {
        "id": "0GGIpR3CQr8s"
      }
    },
    {
      "cell_type": "code",
      "source": [
        "from pyspark.sql.functions import *"
      ],
      "metadata": {
        "id": "IvdTQKfeOFli"
      },
      "execution_count": 40,
      "outputs": []
    },
    {
      "cell_type": "code",
      "source": [
        "spark = SparkSession.builder.getOrCreate()"
      ],
      "metadata": {
        "id": "f65YyJr4PG_D"
      },
      "execution_count": 41,
      "outputs": []
    },
    {
      "cell_type": "markdown",
      "source": [
        "# Carga de dados utilizando spark\n",
        "\n",
        "\n",
        "*   dataset utilizado: [Kaggle](https://www.kaggle.com/code/ragishehab/supermarket-sales-exploration)\n",
        "\n",
        "\n"
      ],
      "metadata": {
        "id": "o1zu5kijRR_i"
      }
    },
    {
      "cell_type": "code",
      "source": [
        "df = spark.read.csv('/content/supermarket_sales - Sheet1.csv')"
      ],
      "metadata": {
        "id": "FxpabTyWOWSA"
      },
      "execution_count": 42,
      "outputs": []
    },
    {
      "cell_type": "code",
      "source": [
        "df.show()"
      ],
      "metadata": {
        "colab": {
          "base_uri": "https://localhost:8080/"
        },
        "id": "KqQOoZ4TPh0L",
        "outputId": "e9c4d5e7-b13c-4c45-b8f1-746a8e003a87"
      },
      "execution_count": 43,
      "outputs": [
        {
          "output_type": "stream",
          "name": "stdout",
          "text": [
            "+-----------+------+---------+-------------+------+--------------------+----------+--------+-------+--------+---------+-----+-----------+------+--------------------+------------+------+\n",
            "|        _c0|   _c1|      _c2|          _c3|   _c4|                 _c5|       _c6|     _c7|    _c8|     _c9|     _c10| _c11|       _c12|  _c13|                _c14|        _c15|  _c16|\n",
            "+-----------+------+---------+-------------+------+--------------------+----------+--------+-------+--------+---------+-----+-----------+------+--------------------+------------+------+\n",
            "| Invoice ID|Branch|     City|Customer type|Gender|        Product line|Unit price|Quantity| Tax 5%|   Total|     Date| Time|    Payment|  cogs|gross margin perc...|gross income|Rating|\n",
            "|750-67-8428|     A|   Yangon|       Member|Female|   Health and beauty|     74.69|       7|26.1415|548.9715| 1/5/2019|13:08|    Ewallet|522.83|         4.761904762|     26.1415|   9.1|\n",
            "|226-31-3081|     C|Naypyitaw|       Normal|Female|Electronic access...|     15.28|       5|   3.82|   80.22| 3/8/2019|10:29|       Cash|  76.4|         4.761904762|        3.82|   9.6|\n",
            "|631-41-3108|     A|   Yangon|       Normal|  Male|  Home and lifestyle|     46.33|       7|16.2155|340.5255| 3/3/2019|13:23|Credit card|324.31|         4.761904762|     16.2155|   7.4|\n",
            "|123-19-1176|     A|   Yangon|       Member|  Male|   Health and beauty|     58.22|       8| 23.288| 489.048|1/27/2019|20:33|    Ewallet|465.76|         4.761904762|      23.288|   8.4|\n",
            "|373-73-7910|     A|   Yangon|       Normal|  Male|   Sports and travel|     86.31|       7|30.2085|634.3785| 2/8/2019|10:37|    Ewallet|604.17|         4.761904762|     30.2085|   5.3|\n",
            "|699-14-3026|     C|Naypyitaw|       Normal|  Male|Electronic access...|     85.39|       7|29.8865|627.6165|3/25/2019|18:30|    Ewallet|597.73|         4.761904762|     29.8865|   4.1|\n",
            "|355-53-5943|     A|   Yangon|       Member|Female|Electronic access...|     68.84|       6| 20.652| 433.692|2/25/2019|14:36|    Ewallet|413.04|         4.761904762|      20.652|   5.8|\n",
            "|315-22-5665|     C|Naypyitaw|       Normal|Female|  Home and lifestyle|     73.56|      10|  36.78|  772.38|2/24/2019|11:38|    Ewallet| 735.6|         4.761904762|       36.78|     8|\n",
            "|665-32-9167|     A|   Yangon|       Member|Female|   Health and beauty|     36.26|       2|  3.626|  76.146|1/10/2019|17:15|Credit card| 72.52|         4.761904762|       3.626|   7.2|\n",
            "|692-92-5582|     B| Mandalay|       Member|Female|  Food and beverages|     54.84|       3|  8.226| 172.746|2/20/2019|13:27|Credit card|164.52|         4.761904762|       8.226|   5.9|\n",
            "|351-62-0822|     B| Mandalay|       Member|Female| Fashion accessories|     14.48|       4|  2.896|  60.816| 2/6/2019|18:07|    Ewallet| 57.92|         4.761904762|       2.896|   4.5|\n",
            "|529-56-3974|     B| Mandalay|       Member|  Male|Electronic access...|     25.51|       4|  5.102| 107.142| 3/9/2019|17:03|       Cash|102.04|         4.761904762|       5.102|   6.8|\n",
            "|365-64-0515|     A|   Yangon|       Normal|Female|Electronic access...|     46.95|       5|11.7375|246.4875|2/12/2019|10:25|    Ewallet|234.75|         4.761904762|     11.7375|   7.1|\n",
            "|252-56-2699|     A|   Yangon|       Normal|  Male|  Food and beverages|     43.19|      10| 21.595| 453.495| 2/7/2019|16:48|    Ewallet| 431.9|         4.761904762|      21.595|   8.2|\n",
            "|829-34-3910|     A|   Yangon|       Normal|Female|   Health and beauty|     71.38|      10|  35.69|  749.49|3/29/2019|19:21|       Cash| 713.8|         4.761904762|       35.69|   5.7|\n",
            "|299-46-1805|     B| Mandalay|       Member|Female|   Sports and travel|     93.72|       6| 28.116| 590.436|1/15/2019|16:19|       Cash|562.32|         4.761904762|      28.116|   4.5|\n",
            "|656-95-9349|     A|   Yangon|       Member|Female|   Health and beauty|     68.93|       7|24.1255|506.6355|3/11/2019|11:03|Credit card|482.51|         4.761904762|     24.1255|   4.6|\n",
            "|765-26-6951|     A|   Yangon|       Normal|  Male|   Sports and travel|     72.61|       6| 21.783| 457.443| 1/1/2019|10:39|Credit card|435.66|         4.761904762|      21.783|   6.9|\n",
            "|329-62-1586|     A|   Yangon|       Normal|  Male|  Food and beverages|     54.67|       3| 8.2005|172.2105|1/21/2019|18:00|Credit card|164.01|         4.761904762|      8.2005|   8.6|\n",
            "+-----------+------+---------+-------------+------+--------------------+----------+--------+-------+--------+---------+-----+-----------+------+--------------------+------------+------+\n",
            "only showing top 20 rows\n",
            "\n"
          ]
        }
      ]
    }
  ]
}